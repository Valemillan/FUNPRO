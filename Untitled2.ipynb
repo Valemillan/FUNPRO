{
  "nbformat": 4,
  "nbformat_minor": 0,
  "metadata": {
    "colab": {
      "provenance": [],
      "authorship_tag": "ABX9TyO6IWpNtrWY/TcKxk8eerRX",
      "include_colab_link": true
    },
    "kernelspec": {
      "name": "python3",
      "display_name": "Python 3"
    },
    "language_info": {
      "name": "python"
    }
  },
  "cells": [
    {
      "cell_type": "markdown",
      "metadata": {
        "id": "view-in-github",
        "colab_type": "text"
      },
      "source": [
        "<a href=\"https://colab.research.google.com/github/Valemillan/FUNPRO/blob/main/Untitled2.ipynb\" target=\"_parent\"><img src=\"https://colab.research.google.com/assets/colab-badge.svg\" alt=\"Open In Colab\"/></a>"
      ]
    },
    {
      "cell_type": "code",
      "source": [
        "#pasa o no la materia, dependiendo de promedio >3 y asistencia >80%\n",
        "nota=float(input(\"ingrese su promedio\"))\n",
        "asistencia= int (input(\"ingrese la cantidad de notas asistidas\"))\n",
        "horas_totales= int (input(\"ingrese la cantidad de horas totales\"))\n",
        "if nota>=3 and asistencia>horas_totales*.8:\n",
        "  print(f\"el estudiante paso la materia con nota{nota}y asistio mas del 80% de las clases\")\n",
        "elif nota>3 and asistencia>horas_totales*.8:\n",
        "    print (f\"el estudiante pierde la materia con {nota} pero asistio a mas del 80% de las clases\")\n",
        "elif nota>=3 and asistencia<horas_totales*.8:\n",
        "  print (f\"el estudiante paso la materia con{nota} pero pierde debido a inasistencia\")\n",
        "else:\n",
        " print (f\"el estudiante perdio la materia con{nota} y no asistio a suficientes clases\")"
      ],
      "metadata": {
        "colab": {
          "base_uri": "https://localhost:8080/"
        },
        "id": "T24mXz-4U58p",
        "outputId": "64cf2068-e094-41c0-d578-71935899eafa"
      },
      "execution_count": 5,
      "outputs": [
        {
          "output_type": "stream",
          "name": "stdout",
          "text": [
            "ingrese su promedio4\n",
            "ingrese la cantidad de notas asistidas5\n",
            "ingrese la cantidad de horas totales7\n",
            "el estudiante paso la materia con4.0 pero pierde debido a inasistencia\n"
          ]
        }
      ]
    },
    {
      "cell_type": "code",
      "source": [
        "#programa que identifique si la letra ingresada es una vocal mayuscula, minuscula\n",
        "letra=input(\"ingresa una letra\")\n",
        "match letra:\n",
        "  case\"a\" : print (f\"{letra} es una vocal minuscula\")\n",
        "  case\"e\" : print (f\"{letra} es una vocal minuscula\")\n",
        "  case\"i\" : print (f\"{letra} es una vocal minuscula\")\n",
        "  case\"o\" : print (f\"{letra} es una vocal minuscula\")\n",
        "  case\"u\" : print (f\"{letra} es una vocal minuscula\")\n",
        "  case\"A\" : print (f\"{letra} es una vocal mayuscula\")\n",
        "  case\"E\" : print (f\"{letra} es una vocal mayuscula\")\n",
        "  case\"I\" : print (f\"{letra} es una vocal mayuscula\")\n",
        "  case\"O\" : print (f\"{letra} es una vocal mayuscula\")\n",
        "  case\"U\" : print (f\"{letra} es una vocal mayuscula\")\n",
        "  case _: print(f\"{letra} no es una vocal\")"
      ],
      "metadata": {
        "colab": {
          "base_uri": "https://localhost:8080/"
        },
        "id": "bWeUXHZObCrW",
        "outputId": "1b275473-3895-4f16-dd29-f666eb942b85"
      },
      "execution_count": 7,
      "outputs": [
        {
          "output_type": "stream",
          "name": "stdout",
          "text": [
            "ingresa una letraA\n",
            "A es una vocal mayuscula\n"
          ]
        }
      ]
    },
    {
      "cell_type": "code",
      "source": [
        "#desarrolar un sistema de riego\n",
        "humedad_suelo = float (input(\"ingrese la cantidad de humedad en el suelo\"))\n",
        "temperatura= float (input(\"ingrese la temperatura actual\"))\n",
        "probabilidad_lluvia = float(input(\"ingrese la probabilidad de lluvia\"))\n",
        "if humedad_suelo<35 and\n"
      ],
      "metadata": {
        "id": "P37BtbFDgXmJ"
      },
      "execution_count": null,
      "outputs": []
    }
  ]
}