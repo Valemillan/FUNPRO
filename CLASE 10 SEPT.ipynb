{
  "nbformat": 4,
  "nbformat_minor": 0,
  "metadata": {
    "colab": {
      "provenance": []
    },
    "kernelspec": {
      "name": "python3",
      "display_name": "Python 3"
    },
    "language_info": {
      "name": "python"
    }
  },
  "cells": [
    {
      "cell_type": "code",
      "execution_count": null,
      "metadata": {
        "id": "u9-o0zbkRAS4"
      },
      "outputs": [],
      "source": []
    },
    {
      "cell_type": "markdown",
      "source": [],
      "metadata": {
        "id": "oGRC8vmRRTGc"
      }
    },
    {
      "cell_type": "code",
      "source": [
        " #ejemplo1: AI para gasolina\n",
        " respuesta = \"\" #declaramos una variable como caracter\n",
        " #para imprimir, usamos el comando print\n",
        " print (\"detecto poca gasolina en el tanque\")\n",
        " print (\"desea ir a la gasolinera mas cercana?\")\n",
        " #funcion input para leer respuestas\n",
        " respuesta= input()"
      ],
      "metadata": {
        "colab": {
          "base_uri": "https://localhost:8080/"
        },
        "id": "2L85yx0qaXp1",
        "outputId": "da48386f-281b-45f5-ad42-f388e0d75fdc"
      },
      "execution_count": 4,
      "outputs": [
        {
          "name": "stdout",
          "output_type": "stream",
          "text": [
            "detecto poca gasolina en el tanque\n",
            "desea ir a la gasolinera mas cercana?\n",
            "si\n"
          ]
        }
      ]
    },
    {
      "cell_type": "code",
      "source": [
        "if respuesta==\"si\":\n",
        "  print (\"ir a la gasolinera mas cercana\")\n",
        "else:\n",
        "  print (\"seguimos derecho\")"
      ],
      "metadata": {
        "colab": {
          "base_uri": "https://localhost:8080/"
        },
        "id": "0KTkQPRZc0Nq",
        "outputId": "eb4af848-611e-456a-9594-a123b8bbb635"
      },
      "execution_count": 5,
      "outputs": [
        {
          "output_type": "stream",
          "name": "stdout",
          "text": [
            "ir a la gasolinera mas cercana\n"
          ]
        }
      ]
    },
    {
      "cell_type": "code",
      "source": [
        "#vamos a mejorar el ejercicio\n",
        "import random  #importando la libreria random\n",
        "gasolina=random.randint (1,100) #hallar un numero aleaotrio entre 1 y 100\n",
        "gasolina"
      ],
      "metadata": {
        "colab": {
          "base_uri": "https://localhost:8080/"
        },
        "id": "Aa5T7ygugVUi",
        "outputId": "10e0a760-cc00-4c88-9923-20054b190a20"
      },
      "execution_count": 9,
      "outputs": [
        {
          "output_type": "execute_result",
          "data": {
            "text/plain": [
              "35"
            ]
          },
          "metadata": {},
          "execution_count": 9
        }
      ]
    },
    {
      "cell_type": "code",
      "source": [
        "if gasolina <=10:\n",
        "  respuesta= input (\"detecto poca gasolina en el tanque/nDesea ir a la galosinera m,as cercana\")\n",
        "  if respuesta==\"si\":\n",
        "  print (\"ir a la gasolinera mas cercana\")\n",
        "  else:\n",
        "  print (\"seguimos derecho\")\n",
        "else\n",
        "  print (\"sigo por el camino\")"
      ],
      "metadata": {
        "colab": {
          "base_uri": "https://localhost:8080/",
          "height": 106
        },
        "id": "iu3SbX8Cg2eh",
        "outputId": "f81484c9-2e6e-42d9-92d7-e4d98c6ceb4c"
      },
      "execution_count": 11,
      "outputs": [
        {
          "output_type": "error",
          "ename": "IndentationError",
          "evalue": "expected an indented block after 'if' statement on line 3 (ipython-input-4186696035.py, line 4)",
          "traceback": [
            "\u001b[0;36m  File \u001b[0;32m\"/tmp/ipython-input-4186696035.py\"\u001b[0;36m, line \u001b[0;32m4\u001b[0m\n\u001b[0;31m    print (\"ir a la gasolinera mas cercana\")\u001b[0m\n\u001b[0m    ^\u001b[0m\n\u001b[0;31mIndentationError\u001b[0m\u001b[0;31m:\u001b[0m expected an indented block after 'if' statement on line 3\n"
          ]
        }
      ]
    }
  ]
}